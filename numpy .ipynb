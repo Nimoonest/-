{
 "cells": [
  {
   "cell_type": "code",
   "execution_count": 1,
   "id": "6b81abf3-944b-406f-a69d-5e08cb9a9daf",
   "metadata": {},
   "outputs": [],
   "source": [
    "import numpy as np"
   ]
  },
  {
   "cell_type": "code",
   "execution_count": 3,
   "id": "d102d2c5-2ae4-4bfc-ab53-0af9d988bee4",
   "metadata": {},
   "outputs": [
    {
     "name": "stdout",
     "output_type": "stream",
     "text": [
      "[[1 2 3]\n",
      " [4 5 6]]\n"
     ]
    }
   ],
   "source": [
    "array = np.array([[1, 2, 3],[4, 5, 6]]) \n",
    "print(array)"
   ]
  },
  {
   "cell_type": "code",
   "execution_count": 6,
   "id": "3830d82a-9780-47d8-b2ee-2a23a91329e5",
   "metadata": {},
   "outputs": [
    {
     "name": "stdout",
     "output_type": "stream",
     "text": [
      "number of dim: 2\n",
      "shape: (2, 3)\n",
      "size: 6\n"
     ]
    }
   ],
   "source": [
    "print('number of dim:',array.ndim) # 维度\n",
    "print('shape:',array.shape)        # 形状（行数， 列数）\n",
    "print('size:',array.size)          # 大小 行*列"
   ]
  },
  {
   "cell_type": "code",
   "execution_count": 9,
   "id": "d483ba0e-4e83-4dad-a17f-4905aec06304",
   "metadata": {},
   "outputs": [
    {
     "name": "stdout",
     "output_type": "stream",
     "text": [
      "int64\n",
      "float64\n"
     ]
    }
   ],
   "source": [
    "a = np.array([2, 3, 4], dtype = np.int64)\n",
    "b = np.array([2, 3, 4], dtype = np.float64)\n",
    "print(a.dtype)\n",
    "print(b.dtype)"
   ]
  },
  {
   "cell_type": "code",
   "execution_count": 20,
   "id": "dba847da-4890-4603-8660-dca8048a4688",
   "metadata": {},
   "outputs": [
    {
     "name": "stdout",
     "output_type": "stream",
     "text": [
      "[[0. 0. 0. 0.]\n",
      " [0. 0. 0. 0.]\n",
      " [0. 0. 0. 0.]]\n",
      "[[1. 1. 1. 1.]\n",
      " [1. 1. 1. 1.]\n",
      " [1. 1. 1. 1.]]\n",
      "[[1. 1. 1. 1.]\n",
      " [1. 1. 1. 1.]\n",
      " [1. 1. 1. 1.]]\n",
      "[[ 0  1  2  3]\n",
      " [ 4  5  6  7]\n",
      " [ 8  9 10 11]]\n",
      "[ 1.    3.25  5.5   7.75 10.  ]\n"
     ]
    }
   ],
   "source": [
    "a = np.zeros((3,4)) # 三行四列的零矩阵\n",
    "print(a)\n",
    "b = np.ones((3,4)) # 三行四列的单位矩阵\n",
    "print(b)\n",
    "c = np.empty((3,4)) # 三行四列的空矩阵\n",
    "print(c)\n",
    "a = np.arange(12).reshape((3,4)) # 重新生成数列 \n",
    "print(a)\n",
    "d = np.linspace(1,10,5) # 用于生成等间距的数列\n",
    "print(d)"
   ]
  },
  {
   "cell_type": "code",
   "execution_count": 25,
   "id": "4b7217b2-3094-4b25-a583-311754b922cc",
   "metadata": {},
   "outputs": [
    {
     "name": "stdout",
     "output_type": "stream",
     "text": [
      "[10 20 30 40]\n",
      "[0 1 2 3]\n",
      "[10 19 28 37]\n",
      "[0 1 4 9]\n",
      "[-0.54402111  0.91294525 -0.98803162  0.74511316]\n"
     ]
    }
   ],
   "source": [
    "a = np.array([10, 20, 30, 40])\n",
    "b = np.arange(4) # 默认起始0 步长一\n",
    "#np.arange(起始值, 终止值, 步长) 用于生成等差数列\n",
    "c = a - b\n",
    "print(a)   \n",
    "print(b)                                                                                                                        \n",
    "print(c)\n",
    "d = b**2 # 平方\n",
    "print(d)\n",
    "e = np.sin(a)\n",
    "print(e)"
   ]
  },
  {
   "cell_type": "code",
   "execution_count": 30,
   "id": "35db1665-bedd-4a2a-aac5-1f6accecde05",
   "metadata": {},
   "outputs": [
    {
     "name": "stdout",
     "output_type": "stream",
     "text": [
      "[0 1 2 3]\n",
      "[ True  True  True False]\n",
      "[False False False  True]\n"
     ]
    }
   ],
   "source": [
    "print(b)\n",
    "print(b < 3)\n",
    "print(b == 3)"
   ]
  },
  {
   "cell_type": "code",
   "execution_count": 40,
   "id": "a2f07ab6-1d94-4aab-8eef-31bb89d482f8",
   "metadata": {},
   "outputs": [
    {
     "name": "stdout",
     "output_type": "stream",
     "text": [
      "[[0 1]\n",
      " [0 3]] \n",
      "\n",
      "[[2 4]\n",
      " [2 3]]\n",
      "\n",
      "\n",
      "[[2 4]\n",
      " [2 3]]\n"
     ]
    }
   ],
   "source": [
    "a = np.array([[1, 1],[0, 1]])\n",
    "b = np.arange(4).reshape((2, 2))\n",
    "c = a * b #逐个相乘\n",
    "c_dot = np.dot(a, b) # 矩阵乘法\n",
    "c_dot_2 = a.dot(b)\n",
    "print(c,'\\n') \n",
    "print(c_dot)\n",
    "print('\\n')\n",
    "print(c_dot_2)"
   ]
  },
  {
   "cell_type": "code",
   "execution_count": 48,
   "id": "ec9de352-42d8-4cc5-9247-8b2ee627d3fd",
   "metadata": {},
   "outputs": [
    {
     "name": "stdout",
     "output_type": "stream",
     "text": [
      "[[0.76491722 0.88432414 0.19018554 0.98125566]\n",
      " [0.65902408 0.57221158 0.47065497 0.15295622]]\n",
      "总和 4.675529404372254\n",
      "对列求和 [1.42394129 1.45653572 0.66084051 1.13421188]\n",
      "最小值 0.1529562180254289\n",
      "最大值 0.981255658755962\n",
      "行最大值 [0.98125566 0.65902408]\n"
     ]
    }
   ],
   "source": [
    "a = np.random.random((2, 4))\n",
    "print(a)\n",
    "print('总和', np.sum(a))\n",
    "print('对列求和', np.sum(a, axis = 0)) # 求和 axis = 0列 对列求和\n",
    "print('最小值', np.min(a)) # 求最小值\n",
    "print('最大值',np.max(a)) # 求最大值\n",
    "print('行最大值',np.max(a, axis = 1)) # 求每行最大值"
   ]
  },
  {
   "cell_type": "code",
   "execution_count": 49,
   "id": "03d9252f-e317-4626-b985-63b28f517133",
   "metadata": {},
   "outputs": [
    {
     "name": "stdout",
     "output_type": "stream",
     "text": [
      "[[ 2  3  4  5]\n",
      " [ 6  7  8  9]\n",
      " [10 11 12 13]]\n"
     ]
    }
   ],
   "source": [
    "A = np.arange(2, 14).reshape((3,4))\n",
    "print(A)"
   ]
  },
  {
   "cell_type": "code",
   "execution_count": 53,
   "id": "ba5e5306-fac4-4307-98c5-b03d6fec0fe0",
   "metadata": {},
   "outputs": [
    {
     "name": "stdout",
     "output_type": "stream",
     "text": [
      "0\n",
      "11\n"
     ]
    }
   ],
   "source": [
    "print(np.argmin(A)) # 最小值的索引\n",
    "print(np.argmax(A)) # 最大值的索引"
   ]
  },
  {
   "cell_type": "code",
   "execution_count": 54,
   "id": "0403b266-4485-498e-9482-840e15fd97ab",
   "metadata": {},
   "outputs": [
    {
     "name": "stdout",
     "output_type": "stream",
     "text": [
      "7.5\n"
     ]
    }
   ],
   "source": [
    "print(np.mean(A))"
   ]
  },
  {
   "cell_type": "code",
   "execution_count": 63,
   "id": "bde88b31-0612-4b20-97ae-41ad315e12f0",
   "metadata": {},
   "outputs": [
    {
     "name": "stdout",
     "output_type": "stream",
     "text": [
      "7.5\n"
     ]
    }
   ],
   "source": [
    "print(np.median(A)) # 中位数"
   ]
  },
  {
   "cell_type": "code",
   "execution_count": 66,
   "id": "3fc82488-1c13-49fa-b66b-1ae2b9c8c3b6",
   "metadata": {},
   "outputs": [
    {
     "name": "stdout",
     "output_type": "stream",
     "text": [
      "[ 2  5  9 14 20 27 35 44 54 65 77 90]\n"
     ]
    }
   ],
   "source": [
    "print(np.cumsum(A)) #累加形式"
   ]
  },
  {
   "cell_type": "code",
   "execution_count": 67,
   "id": "ae1f99de-02ef-4eb1-9d9a-61877f09e1e2",
   "metadata": {},
   "outputs": [
    {
     "name": "stdout",
     "output_type": "stream",
     "text": [
      "[[1 1 1]\n",
      " [1 1 1]\n",
      " [1 1 1]]\n"
     ]
    }
   ],
   "source": [
    "print(np.diff(A)) #差形式"
   ]
  },
  {
   "cell_type": "code",
   "execution_count": 69,
   "id": "fdfa2549-da97-4bef-9076-8e5d460d78df",
   "metadata": {},
   "outputs": [
    {
     "name": "stdout",
     "output_type": "stream",
     "text": [
      "(array([0, 0, 0, 0, 1, 1, 1, 1, 2, 2, 2, 2]), array([0, 1, 2, 3, 0, 1, 2, 3, 0, 1, 2, 3]))\n"
     ]
    }
   ],
   "source": [
    "print(np.nonzero(A)) #输出行索引与列索引"
   ]
  },
  {
   "cell_type": "code",
   "execution_count": 79,
   "id": "11b49a84-f0a6-466e-af3b-d2921e81d809",
   "metadata": {},
   "outputs": [
    {
     "name": "stdout",
     "output_type": "stream",
     "text": [
      "[[14 13 12 11]\n",
      " [10  9  8  7]\n",
      " [ 6  5  4  3]] \n",
      "\n",
      "[[14 10  6]\n",
      " [13  9  5]\n",
      " [12  8  4]\n",
      " [11  7  3]] \n",
      "\n",
      "[[14 10  6]\n",
      " [13  9  5]\n",
      " [12  8  4]\n",
      " [11  7  3]] \n",
      "\n",
      "[[332 302 272 242]\n",
      " [302 275 248 221]\n",
      " [272 248 224 200]\n",
      " [242 221 200 179]] \n",
      "\n",
      "[[11 12 13 14]\n",
      " [ 7  8  9 10]\n",
      " [ 3  4  5  6]]\n"
     ]
    }
   ],
   "source": [
    "A = np.arange(14, 2, -1).reshape((3,4))\n",
    "print(A,'\\n')\n",
    "print(np.transpose(A),'\\n') # 转置\n",
    "print(A.T,'\\n')\n",
    "print((A.T).dot(A),'\\n') # A的转置乘 A （AT*A）\n",
    "print(np.sort(A)) #轴对称"
   ]
  },
  {
   "cell_type": "code",
   "execution_count": 81,
   "id": "7c682928-ea38-4a14-95b7-03aafd82da7c",
   "metadata": {},
   "outputs": [
    {
     "name": "stdout",
     "output_type": "stream",
     "text": [
      "[[9 9 9 9]\n",
      " [9 9 8 7]\n",
      " [6 5 5 5]]\n"
     ]
    }
   ],
   "source": [
    "print(np.clip(A, 5, 9)) # np.clip(array, min, max)裁断 小于5的变5，大于9的变9"
   ]
  },
  {
   "cell_type": "code",
   "execution_count": 83,
   "id": "89089a76-8282-4824-8fad-62175eb7aa1e",
   "metadata": {},
   "outputs": [
    {
     "name": "stdout",
     "output_type": "stream",
     "text": [
      "[10.  9.  8.  7.]\n",
      "[12.5  8.5  4.5]\n"
     ]
    }
   ],
   "source": [
    "print(np.mean(A, axis = 0))\n",
    "print(np.mean(A, axis = 1))"
   ]
  }
 ],
 "metadata": {
  "kernelspec": {
   "display_name": "Python 3 (ipykernel)",
   "language": "python",
   "name": "python3"
  },
  "language_info": {
   "codemirror_mode": {
    "name": "ipython",
    "version": 3
   },
   "file_extension": ".py",
   "mimetype": "text/x-python",
   "name": "python",
   "nbconvert_exporter": "python",
   "pygments_lexer": "ipython3",
   "version": "3.12.0"
  }
 },
 "nbformat": 4,
 "nbformat_minor": 5
}
