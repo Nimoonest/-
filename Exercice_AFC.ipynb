{
 "cells": [
  {
   "cell_type": "markdown",
   "metadata": {
    "id": "oAHMDIXZ-7Md"
   },
   "source": [
    "## Exercice :\n",
    "\n",
    "### Origine sociale (CSP parents) vs. Choix d’études à l’Université"
   ]
  },
  {
   "cell_type": "markdown",
   "metadata": {
    "id": "_M2oXoWn_Cfc"
   },
   "source": [
    "Quelques questions simples pour caractériser la relation :\n",
    "1. Structure des filières choisies selon la CSP;\n",
    "2. Différences/ressemblances des structures de choix selon les CSP;\n",
    "3. Structure des CSP des parents selon les filières;\n",
    "4. Associations entre CSP et FILIERES."
   ]
  },
  {
   "cell_type": "code",
   "execution_count": 1,
   "metadata": {
    "id": "6ewOxLwN-5xm"
   },
   "outputs": [],
   "source": [
    "#from google.colab import drive\n",
    "#drive.mount('/content/drive')"
   ]
  },
  {
   "cell_type": "code",
   "execution_count": 2,
   "metadata": {
    "id": "WvHa9I-v_FY8"
   },
   "outputs": [],
   "source": [
    "# Installation du package fanalysis\n",
    "#!pip install fanalysis==0.0.1"
   ]
  },
  {
   "cell_type": "code",
   "execution_count": 3,
   "metadata": {
    "id": "dP2g4a_m_JDE"
   },
   "outputs": [],
   "source": [
    "import pandas as pd\n",
    "import numpy as np\n",
    "from fanalysis.ca import CA"
   ]
  },
  {
   "cell_type": "code",
   "execution_count": 7,
   "metadata": {
    "id": "WBG8w6B3_PKj"
   },
   "outputs": [
    {
     "data": {
      "text/html": [
       "<div>\n",
       "<style scoped>\n",
       "    .dataframe tbody tr th:only-of-type {\n",
       "        vertical-align: middle;\n",
       "    }\n",
       "\n",
       "    .dataframe tbody tr th {\n",
       "        vertical-align: top;\n",
       "    }\n",
       "\n",
       "    .dataframe thead th {\n",
       "        text-align: right;\n",
       "    }\n",
       "</style>\n",
       "<table border=\"1\" class=\"dataframe\">\n",
       "  <thead>\n",
       "    <tr style=\"text-align: right;\">\n",
       "      <th></th>\n",
       "      <th>Droit</th>\n",
       "      <th>Science</th>\n",
       "      <th>Medecine</th>\n",
       "      <th>IUT</th>\n",
       "    </tr>\n",
       "    <tr>\n",
       "      <th>CSP/Fil.</th>\n",
       "      <th></th>\n",
       "      <th></th>\n",
       "      <th></th>\n",
       "      <th></th>\n",
       "    </tr>\n",
       "  </thead>\n",
       "  <tbody>\n",
       "    <tr>\n",
       "      <th>Exp.agri</th>\n",
       "      <td>80</td>\n",
       "      <td>99</td>\n",
       "      <td>65</td>\n",
       "      <td>58</td>\n",
       "    </tr>\n",
       "    <tr>\n",
       "      <th>Patron</th>\n",
       "      <td>168</td>\n",
       "      <td>137</td>\n",
       "      <td>208</td>\n",
       "      <td>63</td>\n",
       "    </tr>\n",
       "    <tr>\n",
       "      <th>Cadre.sup</th>\n",
       "      <td>470</td>\n",
       "      <td>400</td>\n",
       "      <td>876</td>\n",
       "      <td>79</td>\n",
       "    </tr>\n",
       "    <tr>\n",
       "      <th>Emp.</th>\n",
       "      <td>145</td>\n",
       "      <td>133</td>\n",
       "      <td>135</td>\n",
       "      <td>54</td>\n",
       "    </tr>\n",
       "    <tr>\n",
       "      <th>Ouvrier</th>\n",
       "      <td>166</td>\n",
       "      <td>193</td>\n",
       "      <td>127</td>\n",
       "      <td>129</td>\n",
       "    </tr>\n",
       "  </tbody>\n",
       "</table>\n",
       "</div>"
      ],
      "text/plain": [
       "           Droit  Science  Medecine  IUT\n",
       "CSP/Fil.                                \n",
       "Exp.agri      80       99        65   58\n",
       "Patron       168      137       208   63\n",
       "Cadre.sup    470      400       876   79\n",
       "Emp.         145      133       135   54\n",
       "Ouvrier      166      193       127  129"
      ]
     },
     "execution_count": 7,
     "metadata": {},
     "output_type": "execute_result"
    }
   ],
   "source": [
    "df = pd.read_excel(\"afc_ex.xlsx\",index_col=0)\n",
    "df"
   ]
  },
  {
   "cell_type": "code",
   "execution_count": 9,
   "metadata": {},
   "outputs": [
    {
     "name": "stdout",
     "output_type": "stream",
     "text": [
      "[[ 80.  99.  65.  58.]\n",
      " [168. 137. 208.  63.]\n",
      " [470. 400. 876.  79.]\n",
      " [145. 133. 135.  54.]\n",
      " [166. 193. 127. 129.]]\n"
     ]
    }
   ],
   "source": [
    "X = df.to_numpy(dtype=float) #转化为多维数组形式\n",
    "print(X)"
   ]
  },
  {
   "cell_type": "code",
   "execution_count": 10,
   "metadata": {},
   "outputs": [
    {
     "data": {
      "text/plain": [
       "np.float64(3785.0)"
      ]
     },
     "execution_count": 10,
     "metadata": {},
     "output_type": "execute_result"
    }
   ],
   "source": [
    "n=np.sum(X) #计算总频数\n",
    "n"
   ]
  },
  {
   "cell_type": "code",
   "execution_count": 11,
   "metadata": {},
   "outputs": [
    {
     "data": {
      "text/plain": [
       "array([[0.02113606, 0.02615588, 0.01717305, 0.01532365],\n",
       "       [0.04438573, 0.03619551, 0.05495376, 0.01664465],\n",
       "       [0.12417437, 0.10568032, 0.23143989, 0.02087186],\n",
       "       [0.03830911, 0.03513871, 0.03566711, 0.01426684],\n",
       "       [0.04385733, 0.05099075, 0.0335535 , 0.0340819 ]])"
      ]
     },
     "execution_count": 11,
     "metadata": {},
     "output_type": "execute_result"
    }
   ],
   "source": [
    "F = X/n  #计算相对频数\n",
    "F"
   ]
  },
  {
   "cell_type": "code",
   "execution_count": 12,
   "metadata": {},
   "outputs": [
    {
     "data": {
      "text/html": [
       "<div>\n",
       "<style scoped>\n",
       "    .dataframe tbody tr th:only-of-type {\n",
       "        vertical-align: middle;\n",
       "    }\n",
       "\n",
       "    .dataframe tbody tr th {\n",
       "        vertical-align: top;\n",
       "    }\n",
       "\n",
       "    .dataframe thead th {\n",
       "        text-align: right;\n",
       "    }\n",
       "</style>\n",
       "<table border=\"1\" class=\"dataframe\">\n",
       "  <thead>\n",
       "    <tr style=\"text-align: right;\">\n",
       "      <th></th>\n",
       "      <th>Droit</th>\n",
       "      <th>Science</th>\n",
       "      <th>Medecine</th>\n",
       "      <th>IUT</th>\n",
       "    </tr>\n",
       "    <tr>\n",
       "      <th>CSP/Fil.</th>\n",
       "      <th></th>\n",
       "      <th></th>\n",
       "      <th></th>\n",
       "      <th></th>\n",
       "    </tr>\n",
       "  </thead>\n",
       "  <tbody>\n",
       "    <tr>\n",
       "      <th>Exp.agri</th>\n",
       "      <td>0.265</td>\n",
       "      <td>0.328</td>\n",
       "      <td>0.215</td>\n",
       "      <td>0.192</td>\n",
       "    </tr>\n",
       "    <tr>\n",
       "      <th>Patron</th>\n",
       "      <td>0.292</td>\n",
       "      <td>0.238</td>\n",
       "      <td>0.361</td>\n",
       "      <td>0.109</td>\n",
       "    </tr>\n",
       "    <tr>\n",
       "      <th>Cadre.sup</th>\n",
       "      <td>0.258</td>\n",
       "      <td>0.219</td>\n",
       "      <td>0.480</td>\n",
       "      <td>0.043</td>\n",
       "    </tr>\n",
       "    <tr>\n",
       "      <th>Emp.</th>\n",
       "      <td>0.310</td>\n",
       "      <td>0.285</td>\n",
       "      <td>0.289</td>\n",
       "      <td>0.116</td>\n",
       "    </tr>\n",
       "    <tr>\n",
       "      <th>Ouvrier</th>\n",
       "      <td>0.270</td>\n",
       "      <td>0.314</td>\n",
       "      <td>0.207</td>\n",
       "      <td>0.210</td>\n",
       "    </tr>\n",
       "  </tbody>\n",
       "</table>\n",
       "</div>"
      ],
      "text/plain": [
       "           Droit  Science  Medecine    IUT\n",
       "CSP/Fil.                                  \n",
       "Exp.agri   0.265    0.328     0.215  0.192\n",
       "Patron     0.292    0.238     0.361  0.109\n",
       "Cadre.sup  0.258    0.219     0.480  0.043\n",
       "Emp.       0.310    0.285     0.289  0.116\n",
       "Ouvrier    0.270    0.314     0.207  0.210"
      ]
     },
     "execution_count": 12,
     "metadata": {},
     "output_type": "execute_result"
    }
   ],
   "source": [
    "#计算行剖面：对于某一行（即某个“父母职业类别”），它在不同列（即不同“大学专业选择”）上的比例分布。\n",
    "Profils_ligne=F.copy()\n",
    "\n",
    "# Calcul de la somme par ligne fi.\n",
    "somme_ligne=np.sum(F,axis=1)\n",
    "\n",
    "# Calcul des profils ligne\n",
    "for i in range(np.shape(F)[0]):\n",
    "  for j in range(np.shape(F)[1]):\n",
    "    Profils_ligne[i,j]=round(Profils_ligne[i,j]/somme_ligne[i],3)\n",
    "\n",
    "# Récupération des résultats dans un DataFrame\n",
    "df_profils_ligne = pd.DataFrame(Profils_ligne, columns=df.columns,index=df.index)\n",
    "df_profils_ligne"
   ]
  },
  {
   "cell_type": "code",
   "execution_count": 13,
   "metadata": {},
   "outputs": [
    {
     "data": {
      "text/html": [
       "<div>\n",
       "<style scoped>\n",
       "    .dataframe tbody tr th:only-of-type {\n",
       "        vertical-align: middle;\n",
       "    }\n",
       "\n",
       "    .dataframe tbody tr th {\n",
       "        vertical-align: top;\n",
       "    }\n",
       "\n",
       "    .dataframe thead th {\n",
       "        text-align: right;\n",
       "    }\n",
       "</style>\n",
       "<table border=\"1\" class=\"dataframe\">\n",
       "  <thead>\n",
       "    <tr style=\"text-align: right;\">\n",
       "      <th></th>\n",
       "      <th>Droit</th>\n",
       "      <th>Science</th>\n",
       "      <th>Medecine</th>\n",
       "      <th>IUT</th>\n",
       "    </tr>\n",
       "    <tr>\n",
       "      <th>CSP/Fil.</th>\n",
       "      <th></th>\n",
       "      <th></th>\n",
       "      <th></th>\n",
       "      <th></th>\n",
       "    </tr>\n",
       "  </thead>\n",
       "  <tbody>\n",
       "    <tr>\n",
       "      <th>Exp.agri</th>\n",
       "      <td>0.078</td>\n",
       "      <td>0.103</td>\n",
       "      <td>0.046</td>\n",
       "      <td>0.151</td>\n",
       "    </tr>\n",
       "    <tr>\n",
       "      <th>Patron</th>\n",
       "      <td>0.163</td>\n",
       "      <td>0.142</td>\n",
       "      <td>0.147</td>\n",
       "      <td>0.164</td>\n",
       "    </tr>\n",
       "    <tr>\n",
       "      <th>Cadre.sup</th>\n",
       "      <td>0.457</td>\n",
       "      <td>0.416</td>\n",
       "      <td>0.621</td>\n",
       "      <td>0.206</td>\n",
       "    </tr>\n",
       "    <tr>\n",
       "      <th>Emp.</th>\n",
       "      <td>0.141</td>\n",
       "      <td>0.138</td>\n",
       "      <td>0.096</td>\n",
       "      <td>0.141</td>\n",
       "    </tr>\n",
       "    <tr>\n",
       "      <th>Ouvrier</th>\n",
       "      <td>0.161</td>\n",
       "      <td>0.201</td>\n",
       "      <td>0.090</td>\n",
       "      <td>0.337</td>\n",
       "    </tr>\n",
       "  </tbody>\n",
       "</table>\n",
       "</div>"
      ],
      "text/plain": [
       "           Droit  Science  Medecine    IUT\n",
       "CSP/Fil.                                  \n",
       "Exp.agri   0.078    0.103     0.046  0.151\n",
       "Patron     0.163    0.142     0.147  0.164\n",
       "Cadre.sup  0.457    0.416     0.621  0.206\n",
       "Emp.       0.141    0.138     0.096  0.141\n",
       "Ouvrier    0.161    0.201     0.090  0.337"
      ]
     },
     "execution_count": 13,
     "metadata": {},
     "output_type": "execute_result"
    }
   ],
   "source": [
    "#计算列剖面：对于某一列（即某个“大学专业选择”），它在不同行（即不同“父母职业类别”）上的比例分布。\n",
    "Profils_colonne=F.copy()\n",
    "\n",
    "# Calcul de la somme par colonne fj.\n",
    "somme_colonne=np.sum(F,axis=0)\n",
    "\n",
    "# Calcul des profils colonne\n",
    "for i in range(np.shape(F)[0]):\n",
    "  for j in range(np.shape(F)[1]):\n",
    "    Profils_colonne[i,j]=round(Profils_colonne[i,j]/somme_colonne[j],3)\n",
    "\n",
    "# Récupération des résultats dans un DataFrame\n",
    "df_profils_colonne = pd.DataFrame(Profils_colonne, columns=df.columns,index=df.index)\n",
    "df_profils_colonne"
   ]
  },
  {
   "cell_type": "code",
   "execution_count": 14,
   "metadata": {},
   "outputs": [
    {
     "data": {
      "text/html": [
       "<div>\n",
       "<style scoped>\n",
       "    .dataframe tbody tr th:only-of-type {\n",
       "        vertical-align: middle;\n",
       "    }\n",
       "\n",
       "    .dataframe tbody tr th {\n",
       "        vertical-align: top;\n",
       "    }\n",
       "\n",
       "    .dataframe thead th {\n",
       "        text-align: right;\n",
       "    }\n",
       "</style>\n",
       "<table border=\"1\" class=\"dataframe\">\n",
       "  <thead>\n",
       "    <tr style=\"text-align: right;\">\n",
       "      <th></th>\n",
       "      <th>Droit</th>\n",
       "      <th>Science</th>\n",
       "      <th>Medecine</th>\n",
       "      <th>IUT</th>\n",
       "    </tr>\n",
       "  </thead>\n",
       "  <tbody>\n",
       "    <tr>\n",
       "      <th>Exp.agri</th>\n",
       "      <td>0.265</td>\n",
       "      <td>0.328</td>\n",
       "      <td>0.215</td>\n",
       "      <td>0.192</td>\n",
       "    </tr>\n",
       "    <tr>\n",
       "      <th>Patron</th>\n",
       "      <td>0.292</td>\n",
       "      <td>0.238</td>\n",
       "      <td>0.361</td>\n",
       "      <td>0.109</td>\n",
       "    </tr>\n",
       "    <tr>\n",
       "      <th>Cadre.sup</th>\n",
       "      <td>0.258</td>\n",
       "      <td>0.219</td>\n",
       "      <td>0.480</td>\n",
       "      <td>0.043</td>\n",
       "    </tr>\n",
       "    <tr>\n",
       "      <th>Emp.</th>\n",
       "      <td>0.310</td>\n",
       "      <td>0.285</td>\n",
       "      <td>0.289</td>\n",
       "      <td>0.116</td>\n",
       "    </tr>\n",
       "    <tr>\n",
       "      <th>Ouvrier</th>\n",
       "      <td>0.270</td>\n",
       "      <td>0.314</td>\n",
       "      <td>0.207</td>\n",
       "      <td>0.210</td>\n",
       "    </tr>\n",
       "    <tr>\n",
       "      <th>Profil_ligne_moyen</th>\n",
       "      <td>0.272</td>\n",
       "      <td>0.254</td>\n",
       "      <td>0.373</td>\n",
       "      <td>0.101</td>\n",
       "    </tr>\n",
       "  </tbody>\n",
       "</table>\n",
       "</div>"
      ],
      "text/plain": [
       "                    Droit  Science  Medecine    IUT\n",
       "Exp.agri            0.265    0.328     0.215  0.192\n",
       "Patron              0.292    0.238     0.361  0.109\n",
       "Cadre.sup           0.258    0.219     0.480  0.043\n",
       "Emp.                0.310    0.285     0.289  0.116\n",
       "Ouvrier             0.270    0.314     0.207  0.210\n",
       "Profil_ligne_moyen  0.272    0.254     0.373  0.101"
      ]
     },
     "execution_count": 14,
     "metadata": {},
     "output_type": "execute_result"
    }
   ],
   "source": [
    "#计算平均行剖面\n",
    "Profil_moyen_ligne = np.around(somme_colonne,3)\n",
    "\n",
    "# Récupération dans un DataFrame\n",
    "df_profil_moyen_ligne=pd.DataFrame(Profil_moyen_ligne.reshape(1,np.shape(F)[1]),columns=df.columns,index=['Profil_ligne_moyen'])\n",
    "\n",
    "# Synthèse des profils lignes\n",
    "df_profils_ligne = pd.concat([df_profils_ligne,df_profil_moyen_ligne])\n",
    "df_profils_ligne"
   ]
  },
  {
   "cell_type": "code",
   "execution_count": 15,
   "metadata": {},
   "outputs": [
    {
     "data": {
      "text/html": [
       "<div>\n",
       "<style scoped>\n",
       "    .dataframe tbody tr th:only-of-type {\n",
       "        vertical-align: middle;\n",
       "    }\n",
       "\n",
       "    .dataframe tbody tr th {\n",
       "        vertical-align: top;\n",
       "    }\n",
       "\n",
       "    .dataframe thead th {\n",
       "        text-align: right;\n",
       "    }\n",
       "</style>\n",
       "<table border=\"1\" class=\"dataframe\">\n",
       "  <thead>\n",
       "    <tr style=\"text-align: right;\">\n",
       "      <th></th>\n",
       "      <th>Droit</th>\n",
       "      <th>Science</th>\n",
       "      <th>Medecine</th>\n",
       "      <th>IUT</th>\n",
       "      <th>Profil_moyen_colonne</th>\n",
       "    </tr>\n",
       "    <tr>\n",
       "      <th>CSP/Fil.</th>\n",
       "      <th></th>\n",
       "      <th></th>\n",
       "      <th></th>\n",
       "      <th></th>\n",
       "      <th></th>\n",
       "    </tr>\n",
       "  </thead>\n",
       "  <tbody>\n",
       "    <tr>\n",
       "      <th>Exp.agri</th>\n",
       "      <td>0.078</td>\n",
       "      <td>0.103</td>\n",
       "      <td>0.046</td>\n",
       "      <td>0.151</td>\n",
       "      <td>0.080</td>\n",
       "    </tr>\n",
       "    <tr>\n",
       "      <th>Patron</th>\n",
       "      <td>0.163</td>\n",
       "      <td>0.142</td>\n",
       "      <td>0.147</td>\n",
       "      <td>0.164</td>\n",
       "      <td>0.152</td>\n",
       "    </tr>\n",
       "    <tr>\n",
       "      <th>Cadre.sup</th>\n",
       "      <td>0.457</td>\n",
       "      <td>0.416</td>\n",
       "      <td>0.621</td>\n",
       "      <td>0.206</td>\n",
       "      <td>0.482</td>\n",
       "    </tr>\n",
       "    <tr>\n",
       "      <th>Emp.</th>\n",
       "      <td>0.141</td>\n",
       "      <td>0.138</td>\n",
       "      <td>0.096</td>\n",
       "      <td>0.141</td>\n",
       "      <td>0.123</td>\n",
       "    </tr>\n",
       "    <tr>\n",
       "      <th>Ouvrier</th>\n",
       "      <td>0.161</td>\n",
       "      <td>0.201</td>\n",
       "      <td>0.090</td>\n",
       "      <td>0.337</td>\n",
       "      <td>0.162</td>\n",
       "    </tr>\n",
       "  </tbody>\n",
       "</table>\n",
       "</div>"
      ],
      "text/plain": [
       "           Droit  Science  Medecine    IUT  Profil_moyen_colonne\n",
       "CSP/Fil.                                                        \n",
       "Exp.agri   0.078    0.103     0.046  0.151                 0.080\n",
       "Patron     0.163    0.142     0.147  0.164                 0.152\n",
       "Cadre.sup  0.457    0.416     0.621  0.206                 0.482\n",
       "Emp.       0.141    0.138     0.096  0.141                 0.123\n",
       "Ouvrier    0.161    0.201     0.090  0.337                 0.162"
      ]
     },
     "execution_count": 15,
     "metadata": {},
     "output_type": "execute_result"
    }
   ],
   "source": [
    "#列平均剖面\n",
    "Profil_moyen_colonne = np.around(somme_ligne,3)\n",
    "\n",
    "# Synthèse des profils colonnes\n",
    "df_profils_colonne[\"Profil_moyen_colonne\"]=Profil_moyen_colonne\n",
    "df_profils_colonne"
   ]
  },
  {
   "cell_type": "code",
   "execution_count": 16,
   "metadata": {},
   "outputs": [],
   "source": [
    "# La classe CA est initiée avec respectivement, les points lignes, les points colonnes et le nombre de composantes à retenir\n",
    "afc = CA(row_labels=df.index.values, col_labels=df.columns.values,n_components=2)"
   ]
  },
  {
   "cell_type": "code",
   "execution_count": 17,
   "metadata": {},
   "outputs": [
    {
     "data": {
      "text/html": [
       "<style>#sk-container-id-1 {\n",
       "  /* Definition of color scheme common for light and dark mode */\n",
       "  --sklearn-color-text: #000;\n",
       "  --sklearn-color-text-muted: #666;\n",
       "  --sklearn-color-line: gray;\n",
       "  /* Definition of color scheme for unfitted estimators */\n",
       "  --sklearn-color-unfitted-level-0: #fff5e6;\n",
       "  --sklearn-color-unfitted-level-1: #f6e4d2;\n",
       "  --sklearn-color-unfitted-level-2: #ffe0b3;\n",
       "  --sklearn-color-unfitted-level-3: chocolate;\n",
       "  /* Definition of color scheme for fitted estimators */\n",
       "  --sklearn-color-fitted-level-0: #f0f8ff;\n",
       "  --sklearn-color-fitted-level-1: #d4ebff;\n",
       "  --sklearn-color-fitted-level-2: #b3dbfd;\n",
       "  --sklearn-color-fitted-level-3: cornflowerblue;\n",
       "\n",
       "  /* Specific color for light theme */\n",
       "  --sklearn-color-text-on-default-background: var(--sg-text-color, var(--theme-code-foreground, var(--jp-content-font-color1, black)));\n",
       "  --sklearn-color-background: var(--sg-background-color, var(--theme-background, var(--jp-layout-color0, white)));\n",
       "  --sklearn-color-border-box: var(--sg-text-color, var(--theme-code-foreground, var(--jp-content-font-color1, black)));\n",
       "  --sklearn-color-icon: #696969;\n",
       "\n",
       "  @media (prefers-color-scheme: dark) {\n",
       "    /* Redefinition of color scheme for dark theme */\n",
       "    --sklearn-color-text-on-default-background: var(--sg-text-color, var(--theme-code-foreground, var(--jp-content-font-color1, white)));\n",
       "    --sklearn-color-background: var(--sg-background-color, var(--theme-background, var(--jp-layout-color0, #111)));\n",
       "    --sklearn-color-border-box: var(--sg-text-color, var(--theme-code-foreground, var(--jp-content-font-color1, white)));\n",
       "    --sklearn-color-icon: #878787;\n",
       "  }\n",
       "}\n",
       "\n",
       "#sk-container-id-1 {\n",
       "  color: var(--sklearn-color-text);\n",
       "}\n",
       "\n",
       "#sk-container-id-1 pre {\n",
       "  padding: 0;\n",
       "}\n",
       "\n",
       "#sk-container-id-1 input.sk-hidden--visually {\n",
       "  border: 0;\n",
       "  clip: rect(1px 1px 1px 1px);\n",
       "  clip: rect(1px, 1px, 1px, 1px);\n",
       "  height: 1px;\n",
       "  margin: -1px;\n",
       "  overflow: hidden;\n",
       "  padding: 0;\n",
       "  position: absolute;\n",
       "  width: 1px;\n",
       "}\n",
       "\n",
       "#sk-container-id-1 div.sk-dashed-wrapped {\n",
       "  border: 1px dashed var(--sklearn-color-line);\n",
       "  margin: 0 0.4em 0.5em 0.4em;\n",
       "  box-sizing: border-box;\n",
       "  padding-bottom: 0.4em;\n",
       "  background-color: var(--sklearn-color-background);\n",
       "}\n",
       "\n",
       "#sk-container-id-1 div.sk-container {\n",
       "  /* jupyter's `normalize.less` sets `[hidden] { display: none; }`\n",
       "     but bootstrap.min.css set `[hidden] { display: none !important; }`\n",
       "     so we also need the `!important` here to be able to override the\n",
       "     default hidden behavior on the sphinx rendered scikit-learn.org.\n",
       "     See: https://github.com/scikit-learn/scikit-learn/issues/21755 */\n",
       "  display: inline-block !important;\n",
       "  position: relative;\n",
       "}\n",
       "\n",
       "#sk-container-id-1 div.sk-text-repr-fallback {\n",
       "  display: none;\n",
       "}\n",
       "\n",
       "div.sk-parallel-item,\n",
       "div.sk-serial,\n",
       "div.sk-item {\n",
       "  /* draw centered vertical line to link estimators */\n",
       "  background-image: linear-gradient(var(--sklearn-color-text-on-default-background), var(--sklearn-color-text-on-default-background));\n",
       "  background-size: 2px 100%;\n",
       "  background-repeat: no-repeat;\n",
       "  background-position: center center;\n",
       "}\n",
       "\n",
       "/* Parallel-specific style estimator block */\n",
       "\n",
       "#sk-container-id-1 div.sk-parallel-item::after {\n",
       "  content: \"\";\n",
       "  width: 100%;\n",
       "  border-bottom: 2px solid var(--sklearn-color-text-on-default-background);\n",
       "  flex-grow: 1;\n",
       "}\n",
       "\n",
       "#sk-container-id-1 div.sk-parallel {\n",
       "  display: flex;\n",
       "  align-items: stretch;\n",
       "  justify-content: center;\n",
       "  background-color: var(--sklearn-color-background);\n",
       "  position: relative;\n",
       "}\n",
       "\n",
       "#sk-container-id-1 div.sk-parallel-item {\n",
       "  display: flex;\n",
       "  flex-direction: column;\n",
       "}\n",
       "\n",
       "#sk-container-id-1 div.sk-parallel-item:first-child::after {\n",
       "  align-self: flex-end;\n",
       "  width: 50%;\n",
       "}\n",
       "\n",
       "#sk-container-id-1 div.sk-parallel-item:last-child::after {\n",
       "  align-self: flex-start;\n",
       "  width: 50%;\n",
       "}\n",
       "\n",
       "#sk-container-id-1 div.sk-parallel-item:only-child::after {\n",
       "  width: 0;\n",
       "}\n",
       "\n",
       "/* Serial-specific style estimator block */\n",
       "\n",
       "#sk-container-id-1 div.sk-serial {\n",
       "  display: flex;\n",
       "  flex-direction: column;\n",
       "  align-items: center;\n",
       "  background-color: var(--sklearn-color-background);\n",
       "  padding-right: 1em;\n",
       "  padding-left: 1em;\n",
       "}\n",
       "\n",
       "\n",
       "/* Toggleable style: style used for estimator/Pipeline/ColumnTransformer box that is\n",
       "clickable and can be expanded/collapsed.\n",
       "- Pipeline and ColumnTransformer use this feature and define the default style\n",
       "- Estimators will overwrite some part of the style using the `sk-estimator` class\n",
       "*/\n",
       "\n",
       "/* Pipeline and ColumnTransformer style (default) */\n",
       "\n",
       "#sk-container-id-1 div.sk-toggleable {\n",
       "  /* Default theme specific background. It is overwritten whether we have a\n",
       "  specific estimator or a Pipeline/ColumnTransformer */\n",
       "  background-color: var(--sklearn-color-background);\n",
       "}\n",
       "\n",
       "/* Toggleable label */\n",
       "#sk-container-id-1 label.sk-toggleable__label {\n",
       "  cursor: pointer;\n",
       "  display: flex;\n",
       "  width: 100%;\n",
       "  margin-bottom: 0;\n",
       "  padding: 0.5em;\n",
       "  box-sizing: border-box;\n",
       "  text-align: center;\n",
       "  align-items: start;\n",
       "  justify-content: space-between;\n",
       "  gap: 0.5em;\n",
       "}\n",
       "\n",
       "#sk-container-id-1 label.sk-toggleable__label .caption {\n",
       "  font-size: 0.6rem;\n",
       "  font-weight: lighter;\n",
       "  color: var(--sklearn-color-text-muted);\n",
       "}\n",
       "\n",
       "#sk-container-id-1 label.sk-toggleable__label-arrow:before {\n",
       "  /* Arrow on the left of the label */\n",
       "  content: \"▸\";\n",
       "  float: left;\n",
       "  margin-right: 0.25em;\n",
       "  color: var(--sklearn-color-icon);\n",
       "}\n",
       "\n",
       "#sk-container-id-1 label.sk-toggleable__label-arrow:hover:before {\n",
       "  color: var(--sklearn-color-text);\n",
       "}\n",
       "\n",
       "/* Toggleable content - dropdown */\n",
       "\n",
       "#sk-container-id-1 div.sk-toggleable__content {\n",
       "  max-height: 0;\n",
       "  max-width: 0;\n",
       "  overflow: hidden;\n",
       "  text-align: left;\n",
       "  /* unfitted */\n",
       "  background-color: var(--sklearn-color-unfitted-level-0);\n",
       "}\n",
       "\n",
       "#sk-container-id-1 div.sk-toggleable__content.fitted {\n",
       "  /* fitted */\n",
       "  background-color: var(--sklearn-color-fitted-level-0);\n",
       "}\n",
       "\n",
       "#sk-container-id-1 div.sk-toggleable__content pre {\n",
       "  margin: 0.2em;\n",
       "  border-radius: 0.25em;\n",
       "  color: var(--sklearn-color-text);\n",
       "  /* unfitted */\n",
       "  background-color: var(--sklearn-color-unfitted-level-0);\n",
       "}\n",
       "\n",
       "#sk-container-id-1 div.sk-toggleable__content.fitted pre {\n",
       "  /* unfitted */\n",
       "  background-color: var(--sklearn-color-fitted-level-0);\n",
       "}\n",
       "\n",
       "#sk-container-id-1 input.sk-toggleable__control:checked~div.sk-toggleable__content {\n",
       "  /* Expand drop-down */\n",
       "  max-height: 200px;\n",
       "  max-width: 100%;\n",
       "  overflow: auto;\n",
       "}\n",
       "\n",
       "#sk-container-id-1 input.sk-toggleable__control:checked~label.sk-toggleable__label-arrow:before {\n",
       "  content: \"▾\";\n",
       "}\n",
       "\n",
       "/* Pipeline/ColumnTransformer-specific style */\n",
       "\n",
       "#sk-container-id-1 div.sk-label input.sk-toggleable__control:checked~label.sk-toggleable__label {\n",
       "  color: var(--sklearn-color-text);\n",
       "  background-color: var(--sklearn-color-unfitted-level-2);\n",
       "}\n",
       "\n",
       "#sk-container-id-1 div.sk-label.fitted input.sk-toggleable__control:checked~label.sk-toggleable__label {\n",
       "  background-color: var(--sklearn-color-fitted-level-2);\n",
       "}\n",
       "\n",
       "/* Estimator-specific style */\n",
       "\n",
       "/* Colorize estimator box */\n",
       "#sk-container-id-1 div.sk-estimator input.sk-toggleable__control:checked~label.sk-toggleable__label {\n",
       "  /* unfitted */\n",
       "  background-color: var(--sklearn-color-unfitted-level-2);\n",
       "}\n",
       "\n",
       "#sk-container-id-1 div.sk-estimator.fitted input.sk-toggleable__control:checked~label.sk-toggleable__label {\n",
       "  /* fitted */\n",
       "  background-color: var(--sklearn-color-fitted-level-2);\n",
       "}\n",
       "\n",
       "#sk-container-id-1 div.sk-label label.sk-toggleable__label,\n",
       "#sk-container-id-1 div.sk-label label {\n",
       "  /* The background is the default theme color */\n",
       "  color: var(--sklearn-color-text-on-default-background);\n",
       "}\n",
       "\n",
       "/* On hover, darken the color of the background */\n",
       "#sk-container-id-1 div.sk-label:hover label.sk-toggleable__label {\n",
       "  color: var(--sklearn-color-text);\n",
       "  background-color: var(--sklearn-color-unfitted-level-2);\n",
       "}\n",
       "\n",
       "/* Label box, darken color on hover, fitted */\n",
       "#sk-container-id-1 div.sk-label.fitted:hover label.sk-toggleable__label.fitted {\n",
       "  color: var(--sklearn-color-text);\n",
       "  background-color: var(--sklearn-color-fitted-level-2);\n",
       "}\n",
       "\n",
       "/* Estimator label */\n",
       "\n",
       "#sk-container-id-1 div.sk-label label {\n",
       "  font-family: monospace;\n",
       "  font-weight: bold;\n",
       "  display: inline-block;\n",
       "  line-height: 1.2em;\n",
       "}\n",
       "\n",
       "#sk-container-id-1 div.sk-label-container {\n",
       "  text-align: center;\n",
       "}\n",
       "\n",
       "/* Estimator-specific */\n",
       "#sk-container-id-1 div.sk-estimator {\n",
       "  font-family: monospace;\n",
       "  border: 1px dotted var(--sklearn-color-border-box);\n",
       "  border-radius: 0.25em;\n",
       "  box-sizing: border-box;\n",
       "  margin-bottom: 0.5em;\n",
       "  /* unfitted */\n",
       "  background-color: var(--sklearn-color-unfitted-level-0);\n",
       "}\n",
       "\n",
       "#sk-container-id-1 div.sk-estimator.fitted {\n",
       "  /* fitted */\n",
       "  background-color: var(--sklearn-color-fitted-level-0);\n",
       "}\n",
       "\n",
       "/* on hover */\n",
       "#sk-container-id-1 div.sk-estimator:hover {\n",
       "  /* unfitted */\n",
       "  background-color: var(--sklearn-color-unfitted-level-2);\n",
       "}\n",
       "\n",
       "#sk-container-id-1 div.sk-estimator.fitted:hover {\n",
       "  /* fitted */\n",
       "  background-color: var(--sklearn-color-fitted-level-2);\n",
       "}\n",
       "\n",
       "/* Specification for estimator info (e.g. \"i\" and \"?\") */\n",
       "\n",
       "/* Common style for \"i\" and \"?\" */\n",
       "\n",
       ".sk-estimator-doc-link,\n",
       "a:link.sk-estimator-doc-link,\n",
       "a:visited.sk-estimator-doc-link {\n",
       "  float: right;\n",
       "  font-size: smaller;\n",
       "  line-height: 1em;\n",
       "  font-family: monospace;\n",
       "  background-color: var(--sklearn-color-background);\n",
       "  border-radius: 1em;\n",
       "  height: 1em;\n",
       "  width: 1em;\n",
       "  text-decoration: none !important;\n",
       "  margin-left: 0.5em;\n",
       "  text-align: center;\n",
       "  /* unfitted */\n",
       "  border: var(--sklearn-color-unfitted-level-1) 1pt solid;\n",
       "  color: var(--sklearn-color-unfitted-level-1);\n",
       "}\n",
       "\n",
       ".sk-estimator-doc-link.fitted,\n",
       "a:link.sk-estimator-doc-link.fitted,\n",
       "a:visited.sk-estimator-doc-link.fitted {\n",
       "  /* fitted */\n",
       "  border: var(--sklearn-color-fitted-level-1) 1pt solid;\n",
       "  color: var(--sklearn-color-fitted-level-1);\n",
       "}\n",
       "\n",
       "/* On hover */\n",
       "div.sk-estimator:hover .sk-estimator-doc-link:hover,\n",
       ".sk-estimator-doc-link:hover,\n",
       "div.sk-label-container:hover .sk-estimator-doc-link:hover,\n",
       ".sk-estimator-doc-link:hover {\n",
       "  /* unfitted */\n",
       "  background-color: var(--sklearn-color-unfitted-level-3);\n",
       "  color: var(--sklearn-color-background);\n",
       "  text-decoration: none;\n",
       "}\n",
       "\n",
       "div.sk-estimator.fitted:hover .sk-estimator-doc-link.fitted:hover,\n",
       ".sk-estimator-doc-link.fitted:hover,\n",
       "div.sk-label-container:hover .sk-estimator-doc-link.fitted:hover,\n",
       ".sk-estimator-doc-link.fitted:hover {\n",
       "  /* fitted */\n",
       "  background-color: var(--sklearn-color-fitted-level-3);\n",
       "  color: var(--sklearn-color-background);\n",
       "  text-decoration: none;\n",
       "}\n",
       "\n",
       "/* Span, style for the box shown on hovering the info icon */\n",
       ".sk-estimator-doc-link span {\n",
       "  display: none;\n",
       "  z-index: 9999;\n",
       "  position: relative;\n",
       "  font-weight: normal;\n",
       "  right: .2ex;\n",
       "  padding: .5ex;\n",
       "  margin: .5ex;\n",
       "  width: min-content;\n",
       "  min-width: 20ex;\n",
       "  max-width: 50ex;\n",
       "  color: var(--sklearn-color-text);\n",
       "  box-shadow: 2pt 2pt 4pt #999;\n",
       "  /* unfitted */\n",
       "  background: var(--sklearn-color-unfitted-level-0);\n",
       "  border: .5pt solid var(--sklearn-color-unfitted-level-3);\n",
       "}\n",
       "\n",
       ".sk-estimator-doc-link.fitted span {\n",
       "  /* fitted */\n",
       "  background: var(--sklearn-color-fitted-level-0);\n",
       "  border: var(--sklearn-color-fitted-level-3);\n",
       "}\n",
       "\n",
       ".sk-estimator-doc-link:hover span {\n",
       "  display: block;\n",
       "}\n",
       "\n",
       "/* \"?\"-specific style due to the `<a>` HTML tag */\n",
       "\n",
       "#sk-container-id-1 a.estimator_doc_link {\n",
       "  float: right;\n",
       "  font-size: 1rem;\n",
       "  line-height: 1em;\n",
       "  font-family: monospace;\n",
       "  background-color: var(--sklearn-color-background);\n",
       "  border-radius: 1rem;\n",
       "  height: 1rem;\n",
       "  width: 1rem;\n",
       "  text-decoration: none;\n",
       "  /* unfitted */\n",
       "  color: var(--sklearn-color-unfitted-level-1);\n",
       "  border: var(--sklearn-color-unfitted-level-1) 1pt solid;\n",
       "}\n",
       "\n",
       "#sk-container-id-1 a.estimator_doc_link.fitted {\n",
       "  /* fitted */\n",
       "  border: var(--sklearn-color-fitted-level-1) 1pt solid;\n",
       "  color: var(--sklearn-color-fitted-level-1);\n",
       "}\n",
       "\n",
       "/* On hover */\n",
       "#sk-container-id-1 a.estimator_doc_link:hover {\n",
       "  /* unfitted */\n",
       "  background-color: var(--sklearn-color-unfitted-level-3);\n",
       "  color: var(--sklearn-color-background);\n",
       "  text-decoration: none;\n",
       "}\n",
       "\n",
       "#sk-container-id-1 a.estimator_doc_link.fitted:hover {\n",
       "  /* fitted */\n",
       "  background-color: var(--sklearn-color-fitted-level-3);\n",
       "}\n",
       "</style><div id=\"sk-container-id-1\" class=\"sk-top-container\"><div class=\"sk-text-repr-fallback\"><pre>CA(col_labels=array([&#x27;Droit&#x27;, &#x27;Science&#x27;, &#x27;Medecine&#x27;, &#x27;IUT&#x27;], dtype=object),\n",
       "   n_components=2,\n",
       "   row_labels=array([&#x27;Exp.agri&#x27;, &#x27;Patron&#x27;, &#x27;Cadre.sup&#x27;, &#x27;Emp.&#x27;, &#x27;Ouvrier&#x27;], dtype=object))</pre><b>In a Jupyter environment, please rerun this cell to show the HTML representation or trust the notebook. <br />On GitHub, the HTML representation is unable to render, please try loading this page with nbviewer.org.</b></div><div class=\"sk-container\" hidden><div class=\"sk-item\"><div class=\"sk-estimator fitted sk-toggleable\"><input class=\"sk-toggleable__control sk-hidden--visually\" id=\"sk-estimator-id-1\" type=\"checkbox\" checked><label for=\"sk-estimator-id-1\" class=\"sk-toggleable__label fitted sk-toggleable__label-arrow\"><div><div>CA</div></div><div><span class=\"sk-estimator-doc-link fitted\">i<span>Fitted</span></span></div></label><div class=\"sk-toggleable__content fitted\"><pre>CA(col_labels=array([&#x27;Droit&#x27;, &#x27;Science&#x27;, &#x27;Medecine&#x27;, &#x27;IUT&#x27;], dtype=object),\n",
       "   n_components=2,\n",
       "   row_labels=array([&#x27;Exp.agri&#x27;, &#x27;Patron&#x27;, &#x27;Cadre.sup&#x27;, &#x27;Emp.&#x27;, &#x27;Ouvrier&#x27;], dtype=object))</pre></div> </div></div></div></div>"
      ],
      "text/plain": [
       "CA(col_labels=array(['Droit', 'Science', 'Medecine', 'IUT'], dtype=object),\n",
       "   n_components=2,\n",
       "   row_labels=array(['Exp.agri', 'Patron', 'Cadre.sup', 'Emp.', 'Ouvrier'], dtype=object))"
      ]
     },
     "execution_count": 17,
     "metadata": {},
     "output_type": "execute_result"
    }
   ],
   "source": [
    "# On estime le modèle en appliquant la méthode fit de la classe CA sur le jeu de données\n",
    "afc.fit(F)"
   ]
  },
  {
   "cell_type": "code",
   "execution_count": 22,
   "metadata": {},
   "outputs": [
    {
     "name": "stdout",
     "output_type": "stream",
     "text": [
      "[0.08231106 0.00168257]\n"
     ]
    }
   ],
   "source": [
    "# Affichage des valeurs propres 绝对特征值\n",
    "print(afc.eig_[0])"
   ]
  },
  {
   "cell_type": "code",
   "execution_count": 23,
   "metadata": {},
   "outputs": [
    {
     "name": "stdout",
     "output_type": "stream",
     "text": [
      "[97.3334662  1.9896516]\n"
     ]
    }
   ],
   "source": [
    "# Pourcentage de l'inertie exprimée par chaque axe 每个主成分解释的方差百分比\n",
    "print(afc.eig_[1])"
   ]
  },
  {
   "cell_type": "code",
   "execution_count": 24,
   "metadata": {},
   "outputs": [
    {
     "name": "stdout",
     "output_type": "stream",
     "text": [
      "[97.3334662 99.3231178]\n"
     ]
    }
   ],
   "source": [
    "# Pourcentage cumulé de l'inertie totale 累计方差百分比\n",
    "print(afc.eig_[2])"
   ]
  },
  {
   "cell_type": "code",
   "execution_count": 26,
   "metadata": {},
   "outputs": [
    {
     "data": {
      "image/png": "[encoded data removed]",
      "text/plain": [
       "<Figure size 640x480 with 1 Axes>"
      ]
     },
     "metadata": {},
     "output_type": "display_data"
    }
   ],
   "source": [
    "afc.plot_eigenvalues(type=\"percentage\")#绘制出每个主成分（也叫“轴”）所解释的惯性百分比（也就是方差比例）"
   ]
  },
  {
   "cell_type": "code",
   "execution_count": 27,
   "metadata": {},
   "outputs": [
    {
     "data": {
      "image/png": "[encoded data removed]",
      "text/plain": [
       "<Figure size 640x480 with 1 Axes>"
      ]
     },
     "metadata": {},
     "output_type": "display_data"
    }
   ],
   "source": [
    "afc.plot_eigenvalues(type=\"cumulative\") #累计百分比"
   ]
  },
  {
   "cell_type": "code",
   "execution_count": 28,
   "metadata": {},
   "outputs": [
    {
     "data": {
      "text/html": [
       "<div>\n",
       "<style scoped>\n",
       "    .dataframe tbody tr th:only-of-type {\n",
       "        vertical-align: middle;\n",
       "    }\n",
       "\n",
       "    .dataframe tbody tr th {\n",
       "        vertical-align: top;\n",
       "    }\n",
       "\n",
       "    .dataframe thead th {\n",
       "        text-align: right;\n",
       "    }\n",
       "</style>\n",
       "<table border=\"1\" class=\"dataframe\">\n",
       "  <thead>\n",
       "    <tr style=\"text-align: right;\">\n",
       "      <th></th>\n",
       "      <th>row_coord_dim1</th>\n",
       "      <th>row_coord_dim2</th>\n",
       "      <th>row_contrib_dim1</th>\n",
       "      <th>row_contrib_dim2</th>\n",
       "      <th>row_cos2_dim1</th>\n",
       "      <th>row_cos2_dim2</th>\n",
       "    </tr>\n",
       "  </thead>\n",
       "  <tbody>\n",
       "    <tr>\n",
       "      <th>Exp.agri</th>\n",
       "      <td>0.409300</td>\n",
       "      <td>-0.025581</td>\n",
       "      <td>16.239297</td>\n",
       "      <td>3.103142</td>\n",
       "      <td>0.987167</td>\n",
       "      <td>0.003856</td>\n",
       "    </tr>\n",
       "    <tr>\n",
       "      <th>Patron</th>\n",
       "      <td>0.023393</td>\n",
       "      <td>0.023966</td>\n",
       "      <td>0.101170</td>\n",
       "      <td>5.194893</td>\n",
       "      <td>0.155557</td>\n",
       "      <td>0.163278</td>\n",
       "    </tr>\n",
       "    <tr>\n",
       "      <th>Cadre.sup</th>\n",
       "      <td>-0.263181</td>\n",
       "      <td>-0.015126</td>\n",
       "      <td>40.573908</td>\n",
       "      <td>6.556144</td>\n",
       "      <td>0.996089</td>\n",
       "      <td>0.003290</td>\n",
       "    </tr>\n",
       "    <tr>\n",
       "      <th>Emp.</th>\n",
       "      <td>0.141529</td>\n",
       "      <td>0.097860</td>\n",
       "      <td>3.002494</td>\n",
       "      <td>70.223833</td>\n",
       "      <td>0.666802</td>\n",
       "      <td>0.318797</td>\n",
       "    </tr>\n",
       "    <tr>\n",
       "      <th>Ouvrier</th>\n",
       "      <td>0.450615</td>\n",
       "      <td>-0.039309</td>\n",
       "      <td>40.083131</td>\n",
       "      <td>14.921988</td>\n",
       "      <td>0.992088</td>\n",
       "      <td>0.007550</td>\n",
       "    </tr>\n",
       "  </tbody>\n",
       "</table>\n",
       "</div>"
      ],
      "text/plain": [
       "           row_coord_dim1  row_coord_dim2  row_contrib_dim1  row_contrib_dim2  \\\n",
       "Exp.agri         0.409300       -0.025581         16.239297          3.103142   \n",
       "Patron           0.023393        0.023966          0.101170          5.194893   \n",
       "Cadre.sup       -0.263181       -0.015126         40.573908          6.556144   \n",
       "Emp.             0.141529        0.097860          3.002494         70.223833   \n",
       "Ouvrier          0.450615       -0.039309         40.083131         14.921988   \n",
       "\n",
       "           row_cos2_dim1  row_cos2_dim2  \n",
       "Exp.agri        0.987167       0.003856  \n",
       "Patron          0.155557       0.163278  \n",
       "Cadre.sup       0.996089       0.003290  \n",
       "Emp.            0.666802       0.318797  \n",
       "Ouvrier         0.992088       0.007550  "
      ]
     },
     "execution_count": 28,
     "metadata": {},
     "output_type": "execute_result"
    }
   ],
   "source": [
    "df_rows = afc.row_topandas()\n",
    "df_rows"
   ]
  },
  {
   "cell_type": "code",
   "execution_count": 39,
   "metadata": {},
   "outputs": [
    {
     "name": "stdout",
     "output_type": "stream",
     "text": [
      "[[ 0.409 -0.026]\n",
      " [ 0.023  0.024]\n",
      " [-0.263 -0.015]\n",
      " [ 0.142  0.098]\n",
      " [ 0.451 -0.039]]\n"
     ]
    }
   ],
   "source": [
    "# Coordonnées des points lignes  行点坐标\n",
    "print(np.round(afc.row_coord_,3))"
   ]
  },
  {
   "cell_type": "code",
   "execution_count": 40,
   "metadata": {},
   "outputs": [
    {
     "name": "stdout",
     "output_type": "stream",
     "text": [
      "[[16.239  3.103]\n",
      " [ 0.101  5.195]\n",
      " [40.574  6.556]\n",
      " [ 3.002 70.224]\n",
      " [40.083 14.922]]\n"
     ]
    }
   ],
   "source": [
    "# Contributions des points lignes #行点贡献\n",
    "np.set_printoptions(suppress=True)\n",
    "print(np.round(afc.row_contrib_,3))"
   ]
  },
  {
   "cell_type": "code",
   "execution_count": 41,
   "metadata": {},
   "outputs": [
    {
     "name": "stdout",
     "output_type": "stream",
     "text": [
      "[[0.168 0.768]\n",
      " [0.945 0.   ]\n",
      " [0.99  0.009]\n",
      " [0.989 0.009]]\n"
     ]
    }
   ],
   "source": [
    "# Qualité de représentation COS2 des points colonnes 行点表示质量\n",
    "print(np.round(afc.col_cos2_,3))"
   ]
  },
  {
   "cell_type": "code",
   "execution_count": 33,
   "metadata": {},
   "outputs": [
    {
     "data": {
      "text/html": [
       "<div>\n",
       "<style scoped>\n",
       "    .dataframe tbody tr th:only-of-type {\n",
       "        vertical-align: middle;\n",
       "    }\n",
       "\n",
       "    .dataframe tbody tr th {\n",
       "        vertical-align: top;\n",
       "    }\n",
       "\n",
       "    .dataframe thead th {\n",
       "        text-align: right;\n",
       "    }\n",
       "</style>\n",
       "<table border=\"1\" class=\"dataframe\">\n",
       "  <thead>\n",
       "    <tr style=\"text-align: right;\">\n",
       "      <th></th>\n",
       "      <th>col_coord_dim1</th>\n",
       "      <th>col_coord_dim2</th>\n",
       "      <th>col_contrib_dim1</th>\n",
       "      <th>col_contrib_dim2</th>\n",
       "      <th>col_cos2_dim1</th>\n",
       "      <th>col_cos2_dim2</th>\n",
       "    </tr>\n",
       "  </thead>\n",
       "  <tbody>\n",
       "    <tr>\n",
       "      <th>Droit</th>\n",
       "      <td>0.028124</td>\n",
       "      <td>0.060061</td>\n",
       "      <td>0.261244</td>\n",
       "      <td>58.285261</td>\n",
       "      <td>0.168338</td>\n",
       "      <td>0.767729</td>\n",
       "    </tr>\n",
       "    <tr>\n",
       "      <th>Science</th>\n",
       "      <td>0.160310</td>\n",
       "      <td>0.003275</td>\n",
       "      <td>7.935510</td>\n",
       "      <td>0.162003</td>\n",
       "      <td>0.944570</td>\n",
       "      <td>0.000394</td>\n",
       "    </tr>\n",
       "    <tr>\n",
       "      <th>Medecine</th>\n",
       "      <td>-0.303205</td>\n",
       "      <td>-0.029529</td>\n",
       "      <td>41.636552</td>\n",
       "      <td>19.318997</td>\n",
       "      <td>0.990315</td>\n",
       "      <td>0.009393</td>\n",
       "    </tr>\n",
       "    <tr>\n",
       "      <th>IUT</th>\n",
       "      <td>0.638808</td>\n",
       "      <td>-0.060803</td>\n",
       "      <td>50.166694</td>\n",
       "      <td>22.233739</td>\n",
       "      <td>0.988647</td>\n",
       "      <td>0.008957</td>\n",
       "    </tr>\n",
       "  </tbody>\n",
       "</table>\n",
       "</div>"
      ],
      "text/plain": [
       "          col_coord_dim1  col_coord_dim2  col_contrib_dim1  col_contrib_dim2  \\\n",
       "Droit           0.028124        0.060061          0.261244         58.285261   \n",
       "Science         0.160310        0.003275          7.935510          0.162003   \n",
       "Medecine       -0.303205       -0.029529         41.636552         19.318997   \n",
       "IUT             0.638808       -0.060803         50.166694         22.233739   \n",
       "\n",
       "          col_cos2_dim1  col_cos2_dim2  \n",
       "Droit          0.168338       0.767729  \n",
       "Science        0.944570       0.000394  \n",
       "Medecine       0.990315       0.009393  \n",
       "IUT            0.988647       0.008957  "
      ]
     },
     "execution_count": 33,
     "metadata": {},
     "output_type": "execute_result"
    }
   ],
   "source": [
    "df_cols = afc.col_topandas()\n",
    "df_cols"
   ]
  },
  {
   "cell_type": "code",
   "execution_count": 34,
   "metadata": {},
   "outputs": [
    {
     "name": "stdout",
     "output_type": "stream",
     "text": [
      "[[ 0.028  0.06 ]\n",
      " [ 0.16   0.003]\n",
      " [-0.303 -0.03 ]\n",
      " [ 0.639 -0.061]]\n"
     ]
    }
   ],
   "source": [
    "# Coordonnées des points colonnes  列点坐标\n",
    "print(np.round(afc.col_coord_,3))"
   ]
  },
  {
   "cell_type": "code",
   "execution_count": 42,
   "metadata": {},
   "outputs": [
    {
     "name": "stdout",
     "output_type": "stream",
     "text": [
      "[[ 0.261 58.285]\n",
      " [ 7.936  0.162]\n",
      " [41.637 19.319]\n",
      " [50.167 22.234]]\n"
     ]
    }
   ],
   "source": [
    "# Contributions des points lignes #列点贡献\n",
    "np.set_printoptions(suppress=True)#抑制小数以科学计数法显示\n",
    "print(np.round(afc.col_contrib_,3))"
   ]
  },
  {
   "cell_type": "code",
   "execution_count": 43,
   "metadata": {},
   "outputs": [
    {
     "name": "stdout",
     "output_type": "stream",
     "text": [
      "[[0.168 0.768]\n",
      " [0.945 0.   ]\n",
      " [0.99  0.009]\n",
      " [0.989 0.009]]\n"
     ]
    }
   ],
   "source": [
    "# Qualité de représentation COS2 des points colonnes 列点表示质量\n",
    "print(np.round(afc.col_cos2_,3))"
   ]
  },
  {
   "cell_type": "code",
   "execution_count": 44,
   "metadata": {},
   "outputs": [
    {
     "data": {
      "image/png": "[encoded data removed]",
      "text/plain": [
       "<Figure size 1000x1000 with 1 Axes>"
      ]
     },
     "metadata": {},
     "output_type": "display_data"
    }
   ],
   "source": [
    "#同时展示行点与列点（Biplot 图）\n",
    "# Représentation graphique simultanée des points lignes et colonnes\n",
    "# Les paramètres de la méthode mapping indiquent que ce sont les axes 1 et 2 qui sont ici représentés\n",
    "afc.mapping(num_x_axis=1, num_y_axis=2,figsize=(10,10))"
   ]
  },
  {
   "cell_type": "code",
   "execution_count": 45,
   "metadata": {},
   "outputs": [
    {
     "data": {
      "image/png": "[encoded data removed]",
      "text/plain": [
       "<Figure size 1000x1000 with 1 Axes>"
      ]
     },
     "metadata": {},
     "output_type": "display_data"
    }
   ],
   "source": [
    "# Représentation graphique des points lignes 展示行点\n",
    "afc.mapping_row(num_x_axis=1, num_y_axis=2,figsize=(10,10))"
   ]
  },
  {
   "cell_type": "code",
   "execution_count": 46,
   "metadata": {},
   "outputs": [
    {
     "data": {
      "image/png": "[encoded data removed]",
      "text/plain": [
       "<Figure size 1000x1000 with 1 Axes>"
      ]
     },
     "metadata": {},
     "output_type": "display_data"
    }
   ],
   "source": [
    "# Représentation graphique des points colonnes 展示列点\n",
    "afc.mapping_col(num_x_axis=1, num_y_axis=2,figsize=(10,10))"
   ]
  },
  {
   "cell_type": "code",
   "execution_count": 48,
   "metadata": {},
   "outputs": [
    {
     "data": {
      "image/png": "[encoded data removed]",
      "text/plain": [
       "<Figure size 640x480 with 1 Axes>"
      ]
     },
     "metadata": {},
     "output_type": "display_data"
    }
   ],
   "source": [
    "#行点（CSP职业类别）对第一主成分的贡献度 贡献度高的点在解释这个主成分时最重要\n",
    "# Classement des points lignes en fonction de leurs contributions au 1er axe\n",
    "# Le paramètre de la méthode plot_row_contrib indique que c'est pour l'axe numéro 1 que les contributions sont ici représentées\n",
    "afc.plot_row_contrib(num_axis=1)"
   ]
  },
  {
   "cell_type": "code",
   "execution_count": 52,
   "metadata": {},
   "outputs": [
    {
     "data": {
      "image/png": "[encoded data removed]",
      "text/plain": [
       "<Figure size 640x480 with 1 Axes>"
      ]
     },
     "metadata": {},
     "output_type": "display_data"
    }
   ],
   "source": [
    "# Classement des points lignes en fonction de leur COS2 sur le 1er axe \n",
    "#显示每个“行点”在第1轴上的表示质量（cos²）\n",
    "#越接近1表示它在该轴上的投影位置可靠度更高\n",
    "afc.plot_row_cos2(num_axis=1)"
   ]
  },
  {
   "cell_type": "code",
   "execution_count": 53,
   "metadata": {},
   "outputs": [
    {
     "data": {
      "image/png": "[encoded data removed]",
      "text/plain": [
       "<Figure size 640x480 with 1 Axes>"
      ]
     },
     "metadata": {},
     "output_type": "display_data"
    }
   ],
   "source": [
    "#列点（大学专业类型）对第一主成分的贡献度 贡献度高的点在解释这个主成分时最重要\n",
    "# Classement des points colonnes en fonction de leurs contributions au 1er axe\n",
    "afc.plot_col_contrib(num_axis=1)"
   ]
  },
  {
   "cell_type": "code",
   "execution_count": 54,
   "metadata": {},
   "outputs": [
    {
     "data": {
      "image/png": "[encoded data removed]",
      "text/plain": [
       "<Figure size 640x480 with 1 Axes>"
      ]
     },
     "metadata": {},
     "output_type": "display_data"
    }
   ],
   "source": [
    "#显示每个“列点”在第1轴上的表示质量（cos²）\n",
    "#越接近1表示它在该轴上的投影位置可靠度更高\n",
    "# Classement des points colonnes en fonction de leur COS2 sur le 1er axe\n",
    "afc.plot_col_cos2(num_axis=1)"
   ]
  },
  {
   "cell_type": "markdown",
   "metadata": {
    "id": "_M2oXoWn_Cfc"
   },
   "source": [
    "1. Dim 1 traduit essentiellement l’opposition « Médecine ↔ IUT ».\n",
    "Côté filières, l’IUT est fortement corrélé positivement au premier axe, tout comme la Science,\n",
    "et toutes deux affichent une excellente qualité de représentation (cos² élevé).\n",
    "Côté CSP, Exp.agri et Ouvrier sont eux aussi positivement corrélés au premier axe avec un cos² proche de 1,\n",
    "ce qui indique que les ouvriers et les exploitants agricoles ont une nette tendance à choisir l’IUT et les Sciences.\n",
    "\n",
    "En revanche :\n",
    "La Médecine est clairement corrélée négativement au premier axe et bénéficie d’une qualité de représentation élevée.\n",
    "Cadre.sup est lui aussi fortement corrélé négativement à cet axe avec un cos² élevé, ce qui signifie que les étudiants issus d’un milieu de cadres \n",
    "sont plutôt orientés vers la Médecine."
   ]
  },
  {
   "cell_type": "markdown",
   "metadata": {
    "id": "_M2oXoWn_Cfc"
   },
   "source": [
    "2. Exp.agri et Ouvrier : tous deux obtiennent un score élevé sur le premier axe (Dim 1) et un cos² proche de 1, ce qui montre que leurs structures de choix sont très similaires – ils privilégient nettement l’IUT et les Sciences.\n",
    "\n",
    "Patron et Employé : positionnés près de l’origine sur l’axe principal (Dim 1 ≈ 0, Dim 2 > 0), ils présentent une structure de choix plus « mixte », ni fortement tournés vers l’IUT/Science ni exclusivement vers la Médecine.\n",
    "\n",
    "Cadre.sup : seule catégorie à être clairement négative sur Dim 1 (avec un cos² élevé), sa structure est distincte et marquée par une préférence pour la Médecine, la plaçant à l’écart des autres groupes.\n",
    "\n",
    "Les contributions à l’axe 1 sont maximales pour Exp.agri, Ouvrier et Cadre.sup (≈ 40 %), ce qui signifie qu’ils distinguent le mieux le contraste « technico/scientifique » vs « médical ». À l’inverse, Patron et Employé ont des contributions et cos² faibles, indiquant un profil plus centralisé, moins bien expliqué par cet axe.\n",
    "\n",
    "En conclusion :\n",
    "– Exp.agri et Ouvrier forment un groupe homogène.\n",
    "– Patron et Employé en forment un autre.\n",
    "– Cadre.sup se distingue comme un groupe à part."
   ]
  },
  {
   "cell_type": "markdown",
   "metadata": {},
   "source": [
    "3. Le point Droit se situe près de Emp. ; dans le graphique des contributions des colonnes, le cos² de Droit est le plus faible (≈ 0,15), ce qui indique que la filière Droit est plus dispersée mais qu’elle reste la plus étroitement liée aux familles d’employés.\n",
    "\n",
    "Le point Science apparaît dans la partie supérieure, à proximité de Cadre.sup et Ouvrier, avec un cos² d’environ 0,95, montrant que les sciences sont plébiscitées à la fois par les élites et par les ouvriers.\n",
    "\n",
    "Le point Médecine est positionné en bas à gauche, juste à côté de Cadre.sup, avec une contribution d’environ 42 % et un cos² proche de 1, ce qui signifie que cette filière est quasiment exclusivement dominée par les cadres supérieurs.\n",
    "\n",
    "Le point IUT se trouve en bas à droite, proche de Ouvrier et Exp.agri, avec une contribution d’environ 51 % et un cos² proche de 1, indiquant que cette filière attire principalement les enfants d’ouvriers et d’agriculteurs."
   ]
  },
  {
   "cell_type": "markdown",
   "metadata": {},
   "source": [
    "4. Cadre.sup <--> Médecine\n",
    "\n",
    "Ouvrier et Exp.agri <--> IUT et Science\n",
    "\n",
    "Employé <--> Droit et Science (préférences modérées)\n",
    "\n",
    "Patron → profils plus neutre, sans association marquée, un peu préférence pour Droit"
   ]
  }
 ],
 "metadata": {
  "colab": {
   "provenance": []
  },
  "kernelspec": {
   "display_name": "Python 3 (ipykernel)",
   "language": "python",
   "name": "python3"
  },
  "language_info": {
   "codemirror_mode": {
    "name": "ipython",
    "version": 3
   },
   "file_extension": ".py",
   "mimetype": "text/x-python",
   "name": "python",
   "nbconvert_exporter": "python",
   "pygments_lexer": "ipython3",
   "version": "3.12.0"
  }
 },
 "nbformat": 4,
 "nbformat_minor": 4
}
