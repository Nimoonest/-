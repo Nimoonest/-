{
 "cells": [
  {
   "cell_type": "code",
   "execution_count": 1,
   "id": "66574765-8a1d-4c88-a1c2-e4ed3ce57942",
   "metadata": {},
   "outputs": [],
   "source": [
    "import numpy as np"
   ]
  },
  {
   "cell_type": "code",
   "execution_count": 3,
   "id": "abb44f31-0fcc-451c-9305-32e3b6ee9e71",
   "metadata": {},
   "outputs": [
    {
     "name": "stdout",
     "output_type": "stream",
     "text": [
      "[ 3  4  5  6  7  8  9 10 11 12 13 14]\n",
      "6\n"
     ]
    }
   ],
   "source": [
    "A = np.arange(3, 15)\n",
    "print(A)\n",
    "print(A[3]) # numpy索引"
   ]
  },
  {
   "cell_type": "code",
   "execution_count": 8,
   "id": "b3a0c303-3bd9-4018-9f9c-eeca09e7b222",
   "metadata": {},
   "outputs": [
    {
     "name": "stdout",
     "output_type": "stream",
     "text": [
      "[[ 3  4  5  6]\n",
      " [ 7  8  9 10]\n",
      " [11 12 13 14]] \n",
      "\n",
      "[11 12 13 14]\n"
     ]
    }
   ],
   "source": [
    "A = np.arange(3, 15).reshape((3,4))\n",
    "print(A, '\\n')\n",
    "print(A[2]) # 第三行"
   ]
  },
  {
   "cell_type": "code",
   "execution_count": 15,
   "id": "8f3e68be-db0b-4e61-859f-fd54e39cac08",
   "metadata": {},
   "outputs": [
    {
     "name": "stdout",
     "output_type": "stream",
     "text": [
      "4\n",
      "[ 7  8  9 10]\n",
      "[ 4  8 12]\n",
      "[[3 4 5 6]]\n",
      "[8]\n"
     ]
    }
   ],
   "source": [
    "print(A[0,1])\n",
    "print(A[1,:])\n",
    "print(A[:,1])\n",
    "print(A[:1]) # 切片 =A(0:1) array[start:stop:step]\n",
    "print(A[1, 1:2]) # 第一行，切片start 1 stop 2"
   ]
  },
  {
   "cell_type": "code",
   "execution_count": 20,
   "id": "edd65274-3547-4261-a70a-501727873a47",
   "metadata": {},
   "outputs": [
    {
     "name": "stdout",
     "output_type": "stream",
     "text": [
      "[3 4 5 6]\n",
      "[ 7  8  9 10]\n",
      "[11 12 13 14]\n"
     ]
    }
   ],
   "source": [
    "for row in A:\n",
    "    print(row)"
   ]
  },
  {
   "cell_type": "code",
   "execution_count": 21,
   "id": "96b869cb-a2d1-453a-b7e2-232e360ed714",
   "metadata": {},
   "outputs": [
    {
     "name": "stdout",
     "output_type": "stream",
     "text": [
      "[ 3  7 11]\n",
      "[ 4  8 12]\n",
      "[ 5  9 13]\n",
      "[ 6 10 14]\n"
     ]
    }
   ],
   "source": [
    "for column in A.T:\n",
    "    print(column)"
   ]
  },
  {
   "cell_type": "code",
   "execution_count": 29,
   "id": "01f5f09b-96a8-4beb-b8a0-1bc53f273fa0",
   "metadata": {},
   "outputs": [
    {
     "name": "stdout",
     "output_type": "stream",
     "text": [
      "[ 3  4  5  6  7  8  9 10 11 12 13 14]\n",
      "3\n",
      "4\n",
      "5\n",
      "6\n",
      "7\n",
      "8\n",
      "9\n",
      "10\n",
      "11\n",
      "12\n",
      "13\n",
      "14\n"
     ]
    }
   ],
   "source": [
    "print(A.flatten())\n",
    "for item in A.flat:\n",
    "    print(item)"
   ]
  },
  {
   "cell_type": "code",
   "execution_count": 56,
   "id": "c06dd483-bf56-4a0a-af2e-fc5cfe668702",
   "metadata": {},
   "outputs": [
    {
     "name": "stdout",
     "output_type": "stream",
     "text": [
      "[[1 1 1]\n",
      " [2 2 2]]\n"
     ]
    }
   ],
   "source": [
    "# 拼接\n",
    "A = np.array([1, 1, 1])\n",
    "B = np.array([2, 2, 2])\n",
    "\n",
    "print(np.vstack((A,B))) # VERTICAL STACK上下合并"
   ]
  },
  {
   "cell_type": "code",
   "execution_count": 34,
   "id": "4b41ffc8-c8b9-4350-9eae-12d76dd15681",
   "metadata": {},
   "outputs": [
    {
     "name": "stdout",
     "output_type": "stream",
     "text": [
      "(3,) (2, 3)\n"
     ]
    }
   ],
   "source": [
    "C = np.vstack((A,B))\n",
    "print(A.shape, C.shape)"
   ]
  },
  {
   "cell_type": "code",
   "execution_count": 36,
   "id": "0f87f06e-74dd-40d1-bfd5-9ac11947d7a9",
   "metadata": {},
   "outputs": [
    {
     "name": "stdout",
     "output_type": "stream",
     "text": [
      "[1 1 1 2 2 2]\n",
      "(6,)\n"
     ]
    }
   ],
   "source": [
    "D = np.hstack((A, B))  # HORIZONTAL STACKE左右合并\n",
    "print(D)\n",
    "print(D.shape)"
   ]
  },
  {
   "cell_type": "code",
   "execution_count": 39,
   "id": "8e1d5a34-ea8d-4891-a8bc-31f2f2ac9b6f",
   "metadata": {},
   "outputs": [
    {
     "name": "stdout",
     "output_type": "stream",
     "text": [
      "[[1 1 1]]\n",
      "[[1]\n",
      " [1]\n",
      " [1]]\n"
     ]
    }
   ],
   "source": [
    "print(A[np.newaxis,:])  # 行升维 shape变为（1,3） \n",
    "print(A[:,np.newaxis])  # 列升维 shape变为（3,1）"
   ]
  },
  {
   "cell_type": "code",
   "execution_count": 50,
   "id": "9b602d3a-001a-4d35-b6bc-db5dabb8ccc5",
   "metadata": {},
   "outputs": [
    {
     "name": "stdout",
     "output_type": "stream",
     "text": [
      "[[1 2 2 1]\n",
      " [1 2 2 1]\n",
      " [1 2 2 1]]\n",
      "[[1]\n",
      " [1]\n",
      " [1]\n",
      " [2]\n",
      " [2]\n",
      " [2]\n",
      " [2]\n",
      " [2]\n",
      " [2]\n",
      " [1]\n",
      " [1]\n",
      " [1]]\n"
     ]
    }
   ],
   "source": [
    "A = np.array([1, 1, 1])[:,np.newaxis]\n",
    "B = np.array([2, 2, 2])[:,np.newaxis]\n",
    "C = np.concatenate((A, B, B, A), axis = 1) #在第二维度进行拼接\n",
    "print(C)\n",
    "D = np.concatenate((A, B, B, A), axis = 0) #在第一维度进行拼接\n",
    "print(D)"
   ]
  },
  {
   "cell_type": "code",
   "execution_count": 53,
   "id": "aeac1ccd-ee82-41d2-a9ed-1ae872772418",
   "metadata": {},
   "outputs": [
    {
     "name": "stdout",
     "output_type": "stream",
     "text": [
      "[[1 1 1]]\n",
      "[[2 2 2]]\n",
      "[[1 1 1 2 2 2 2 2 2 1 1 1]]\n",
      "[[1 1 1]\n",
      " [2 2 2]\n",
      " [2 2 2]\n",
      " [1 1 1]]\n"
     ]
    }
   ],
   "source": [
    "A = np.array([1, 1, 1])[np.newaxis,:]\n",
    "B = np.array([2, 2, 2])[np.newaxis,:]\n",
    "print(A)\n",
    "print(B)\n",
    "C = np.concatenate((A, B, B, A), axis = 1) #在第二维度进行拼接 列拼接 左右拼接\n",
    "print(C)\n",
    "D = np.concatenate((A, B, B, A), axis = 0) #在第一维度进行拼接 行拼接 上下拼接\n",
    "print(D)"
   ]
  },
  {
   "cell_type": "code",
   "execution_count": 57,
   "id": "cd53e5d8-da60-4022-a117-6bcd515597ec",
   "metadata": {},
   "outputs": [
    {
     "name": "stdout",
     "output_type": "stream",
     "text": [
      "[[ 0  1  2  3]\n",
      " [ 4  5  6  7]\n",
      " [ 8  9 10 11]]\n"
     ]
    }
   ],
   "source": [
    "#分割\n",
    "A = np.arange(12).reshape((3, 4))\n",
    "print(A)"
   ]
  },
  {
   "cell_type": "code",
   "execution_count": 62,
   "id": "ebfcd5b8-ac5f-4ae8-bd75-898c59470361",
   "metadata": {},
   "outputs": [
    {
     "name": "stdout",
     "output_type": "stream",
     "text": [
      "[array([[0, 1],\n",
      "       [4, 5],\n",
      "       [8, 9]]), array([[ 2,  3],\n",
      "       [ 6,  7],\n",
      "       [10, 11]])]\n"
     ]
    }
   ],
   "source": [
    "print(np.split(A, 2, axis = 1)) # 列分割"
   ]
  },
  {
   "cell_type": "code",
   "execution_count": 61,
   "id": "00a65143-7841-4091-a968-194ebede287a",
   "metadata": {},
   "outputs": [
    {
     "name": "stdout",
     "output_type": "stream",
     "text": [
      "[array([[0, 1, 2, 3]]), array([[4, 5, 6, 7]]), array([[ 8,  9, 10, 11]])]\n"
     ]
    }
   ],
   "source": [
    "print(np.split(A, 3, axis = 0)) # 行分割"
   ]
  },
  {
   "cell_type": "code",
   "execution_count": 64,
   "id": "13d2e3fe-7a76-40fc-8ba3-51fcdaf0408f",
   "metadata": {},
   "outputs": [
    {
     "name": "stdout",
     "output_type": "stream",
     "text": [
      "[array([[0, 1],\n",
      "       [4, 5],\n",
      "       [8, 9]]), array([[ 2],\n",
      "       [ 6],\n",
      "       [10]]), array([[ 3],\n",
      "       [ 7],\n",
      "       [11]])]\n"
     ]
    }
   ],
   "source": [
    "print(np.array_split(A, 3, axis = 1)) # 不均匀分割"
   ]
  },
  {
   "cell_type": "code",
   "execution_count": 67,
   "id": "a3d56d12-1c4b-4d73-bf5f-5cc7ecdde762",
   "metadata": {},
   "outputs": [
    {
     "name": "stdout",
     "output_type": "stream",
     "text": [
      "[array([[0, 1, 2, 3]]), array([[4, 5, 6, 7]]), array([[ 8,  9, 10, 11]])]\n",
      "[array([[0, 1],\n",
      "       [4, 5],\n",
      "       [8, 9]]), array([[ 2,  3],\n",
      "       [ 6,  7],\n",
      "       [10, 11]])]\n"
     ]
    }
   ],
   "source": [
    "print(np.vsplit(A, 3)) # 行分割\n",
    "print(np.hsplit(A, 2)) # 列分割"
   ]
  },
  {
   "cell_type": "code",
   "execution_count": 68,
   "id": "78805363-0204-469f-9bbd-b88f320c136a",
   "metadata": {},
   "outputs": [
    {
     "data": {
      "text/plain": [
       "array([0, 1, 2, 3])"
      ]
     },
     "execution_count": 68,
     "metadata": {},
     "output_type": "execute_result"
    }
   ],
   "source": [
    "a = np.arange(4)\n",
    "a"
   ]
  },
  {
   "cell_type": "code",
   "execution_count": 69,
   "id": "04d296a2-bb33-4c7d-a2a2-a978cd6c3094",
   "metadata": {},
   "outputs": [
    {
     "data": {
      "text/plain": [
       "array([11,  1,  2,  3])"
      ]
     },
     "execution_count": 69,
     "metadata": {},
     "output_type": "execute_result"
    }
   ],
   "source": [
    "b = a\n",
    "c = a\n",
    "d = b\n",
    "a[0] = 11\n",
    "a"
   ]
  },
  {
   "cell_type": "code",
   "execution_count": 71,
   "id": "f4a20e48-6de8-493b-9a2d-f76e06e0ec46",
   "metadata": {},
   "outputs": [
    {
     "data": {
      "text/plain": [
       "array([11,  1,  2,  3])"
      ]
     },
     "execution_count": 71,
     "metadata": {},
     "output_type": "execute_result"
    }
   ],
   "source": [
    "b # 改变了a相当于改变了b"
   ]
  },
  {
   "cell_type": "code",
   "execution_count": 77,
   "id": "cc4848a5-36c3-41b9-8a32-7f2f28c2d4e2",
   "metadata": {},
   "outputs": [],
   "source": [
    "b = a.copy() # deep copy深拷贝 只赋值"
   ]
  },
  {
   "cell_type": "code",
   "execution_count": 75,
   "id": "4686e641-06b7-4158-9eb5-ed2d31b3853a",
   "metadata": {},
   "outputs": [
    {
     "data": {
      "text/plain": [
       "array([11,  1,  2, 44])"
      ]
     },
     "execution_count": 75,
     "metadata": {},
     "output_type": "execute_result"
    }
   ],
   "source": [
    "a[3] = 44\n",
    "a"
   ]
  },
  {
   "cell_type": "code",
   "execution_count": 76,
   "id": "1f620ce2-974b-4688-b15f-d20044920162",
   "metadata": {},
   "outputs": [
    {
     "data": {
      "text/plain": [
       "array([11,  1,  2,  3])"
      ]
     },
     "execution_count": 76,
     "metadata": {},
     "output_type": "execute_result"
    }
   ],
   "source": [
    "b"
   ]
  }
 ],
 "metadata": {
  "kernelspec": {
   "display_name": "Python 3 (ipykernel)",
   "language": "python",
   "name": "python3"
  },
  "language_info": {
   "codemirror_mode": {
    "name": "ipython",
    "version": 3
   },
   "file_extension": ".py",
   "mimetype": "text/x-python",
   "name": "python",
   "nbconvert_exporter": "python",
   "pygments_lexer": "ipython3",
   "version": "3.12.0"
  }
 },
 "nbformat": 4,
 "nbformat_minor": 5
}
